{
 "cells": [
  {
   "cell_type": "code",
   "execution_count": 34,
   "id": "13bf6762",
   "metadata": {},
   "outputs": [
    {
     "name": "stdout",
     "output_type": "stream",
     "text": [
      "loading Roboflow workspace...\n",
      "loading Roboflow project...\n",
      "{\n",
      "  \"id\": \"car-detector-and-counter/4\",\n",
      "  \"name\": \"Car detector and counter\",\n",
      "  \"version\": \"4\",\n",
      "  \"classes\": null,\n",
      "  \"overlap\": 30,\n",
      "  \"confidence\": 40,\n",
      "  \"stroke\": 1,\n",
      "  \"labels\": false,\n",
      "  \"format\": \"json\",\n",
      "  \"base_url\": \"https://detect.roboflow.com/\"\n",
      "}\n"
     ]
    }
   ],
   "source": [
    "from roboflow import Roboflow\n",
    "rf = Roboflow(api_key=\"HxqkeJzZl04NtoYD6sOU\")\n",
    "project = rf.workspace().project(\"car-detector-and-counter\")\n",
    "model = project.version(4).model\n",
    "\n",
    "# infer on a local image\n",
    "print(model)\n"
   ]
  },
  {
   "cell_type": "code",
   "execution_count": 42,
   "id": "5fee9366",
   "metadata": {},
   "outputs": [],
   "source": [
    "# Open the video file\n",
    "video = cv2.VideoCapture('your_video.mp4')\n",
    "\n",
    "# Define the output video writer\n",
    "fourcc = cv2.VideoWriter_fourcc(*'mp4v')\n",
    "fps = video.get(cv2.CAP_PROP_FPS)\n",
    "size = (int(video.get(cv2.CAP_PROP_FRAME_WIDTH)), int(video.get(cv2.CAP_PROP_FRAME_HEIGHT)))\n",
    "out = cv2.VideoWriter('output.mp4', fourcc, fps, size)\n"
   ]
  },
  {
   "cell_type": "code",
   "execution_count": 43,
   "id": "3593ea5d",
   "metadata": {},
   "outputs": [
    {
     "data": {
      "text/plain": [
       "0.0"
      ]
     },
     "execution_count": 43,
     "metadata": {},
     "output_type": "execute_result"
    }
   ],
   "source": [
    "fps"
   ]
  },
  {
   "cell_type": "code",
   "execution_count": 46,
   "id": "162a1bc1",
   "metadata": {},
   "outputs": [
    {
     "name": "stdout",
     "output_type": "stream",
     "text": [
      "sdf\n"
     ]
    }
   ],
   "source": [
    "count = 0\n",
    "while count < 512:\n",
    "    print(\"sdf\")\n",
    "    # Read the next frame from the video\n",
    "    ret, frame = video.read()\n",
    "    if not ret:\n",
    "        break\n",
    "\n",
    "    # Apply the transforms to the frame\n",
    "    input = transform(frame)\n",
    "\n",
    "    # Run the model on the input frame\n",
    "    output = model(input.unsqueeze(0))\n",
    "\n",
    "    # Extract the predictions from the model output\n",
    "    predictions = output.xyxy[0]\n",
    "\n",
    "    # Draw the predictions on the frame\n",
    "    for pred in predictions:\n",
    "        x1, y1, x2, y2, conf, cls = pred.tolist()\n",
    "        cv2.rectangle(frame, (int(x1), int(y1)), (int(x2), int(y2)), (0, 0, 255), 2)\n",
    "        cv2.putText(frame, f'{cls:.2f}', (int(x1), int(y1)-10), cv2.FONT_HERSHEY_SIMPLEX, 0.5, (0, 0, 255), 2)\n",
    "    count = count +1\n",
    "    # Write the annotated frame to the output video\n",
    "    out.write(frame)\n",
    "# Release the video reader and writer\n",
    "video.release()\n",
    "out.release()"
   ]
  },
  {
   "cell_type": "code",
   "execution_count": null,
   "id": "000a9147",
   "metadata": {},
   "outputs": [],
   "source": []
  }
 ],
 "metadata": {
  "kernelspec": {
   "display_name": "Python 3 (ipykernel)",
   "language": "python",
   "name": "python3"
  },
  "language_info": {
   "codemirror_mode": {
    "name": "ipython",
    "version": 3
   },
   "file_extension": ".py",
   "mimetype": "text/x-python",
   "name": "python",
   "nbconvert_exporter": "python",
   "pygments_lexer": "ipython3",
   "version": "3.9.16"
  }
 },
 "nbformat": 4,
 "nbformat_minor": 5
}
